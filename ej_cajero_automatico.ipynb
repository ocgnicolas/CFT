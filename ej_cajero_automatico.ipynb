{
 "cells": [
  {
   "cell_type": "code",
   "execution_count": null,
   "id": "36bceb16",
   "metadata": {},
   "outputs": [],
   "source": [
    "# Cajero automático\n",
    "\n",
    "saldo = 10000  \n",
    "\n",
    "print(\"Bienvenido al cajero automático\")\n",
    "print(\" \")\n",
    "\n",
    "while True:\n",
    "    print(\"1. Consultar saldo disponible\")\n",
    "    print(\"2. Realizar giro de dinero\")\n",
    "    print(\"3. Salir del sistema\")\n",
    "    print(\" \")\n",
    "    \n",
    "    opcion = input(\"Por favor seleccione una opción: \")\n",
    "    print(\" \")\n",
    "    \n",
    "    if opcion == \"1\":\n",
    "        print(\"Su saldo disponible es: $\" + str(saldo))\n",
    "        print(\" \")\n",
    "        \n",
    "    elif opcion == \"2\":\n",
    "        monto = int(input(\"Por favor ingrese el monto a retirar: \"))\n",
    "        print(\" \")\n",
    "        if monto <= saldo:\n",
    "            saldo -= monto\n",
    "            print(\"Retiraste $\" + str(monto) + \" de tu cuenta\")\n",
    "            print(\" \")\n",
    "            print(\"Tu saldo disponible es: $\" + str(saldo))\n",
    "        else:\n",
    "            print(\"No cuentas con suficiente saldo para realizar la operación\")\n",
    "            print(\" \")\n",
    "\n",
    "    elif opcion == \"3\":\n",
    "        print(\"Gracias por utilizar el cajero automático\")\n",
    "        break\n",
    "\n",
    "    else:\n",
    "        print(\"Opción inválida. Por favor seleccione una opción válida.\")"
   ]
  }
 ],
 "metadata": {
  "kernelspec": {
   "display_name": "Python 3 (ipykernel)",
   "language": "python",
   "name": "python3"
  },
  "language_info": {
   "codemirror_mode": {
    "name": "ipython",
    "version": 3
   },
   "file_extension": ".py",
   "mimetype": "text/x-python",
   "name": "python",
   "nbconvert_exporter": "python",
   "pygments_lexer": "ipython3",
   "version": "3.10.9"
  }
 },
 "nbformat": 4,
 "nbformat_minor": 5
}
